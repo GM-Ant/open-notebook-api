{
 "cells": [
  {
   "cell_type": "markdown",
   "id": "a691fda4",
   "metadata": {},
   "source": [
    "# Open Notebook Wrapper Script Documentation\n",
    "\n",
    "This notebook documents the usage of the `open_notebook_wrapper.sh` script, which allows you to interact with Open Notebook from outside the Docker container without having to modify the container itself."
   ]
  },
  {
   "cell_type": "markdown",
   "id": "d7278e04",
   "metadata": {},
   "source": [
    "## Introduction\n",
    "\n",
    "The wrapper script acts as a bridge between your host system and the Open Notebook CLI running inside the Docker container. It forwards your commands to the container and returns the results, making it seamless to interact with Open Notebook without having to connect to the container directly.\n",
    "\n",
    "This approach has several advantages:\n",
    "\n",
    "1. No modifications to the container are required\n",
    "2. You can run commands directly from your host terminal\n",
    "3. The script can be integrated with other host-side tools and scripts\n",
    "4. It handles the container interaction details for you"
   ]
  },
  {
   "cell_type": "markdown",
   "id": "557125ca",
   "metadata": {},
   "source": [
    "## Setup\n",
    "\n",
    "Before using the wrapper script, make sure to set it as executable:\n",
    "\n",
    "```bash\n",
    "chmod +x open_notebook_wrapper.sh\n",
    "```\n",
    "\n",
    "The script assumes that:\n",
    "\n",
    "1. Docker is installed and running on your system\n",
    "2. The Open Notebook container is running with the name `assistant-notebook-1`\n",
    "3. The Open Notebook CLI script (`open_notebook_cli.py`) is available in the container's working directory"
   ]
  },
  {
   "cell_type": "markdown",
   "id": "da6abac0",
   "metadata": {},
   "source": [
    "## Basic Usage\n",
    "\n",
    "The wrapper script uses the same command structure as the Open Notebook CLI, but you execute it from your host system:\n",
    "\n",
    "```bash\n",
    "./open_notebook_wrapper.sh <command> [options]\n",
    "```\n",
    "\n",
    "To see the help message with all available commands:\n",
    "\n",
    "```bash\n",
    "./open_notebook_wrapper.sh --help\n",
    "```\n",
    "\n",
    "The script will check if the container is running and then forward your command to the Open Notebook CLI inside the container."
   ]
  },
  {
   "cell_type": "markdown",
   "id": "b4936358",
   "metadata": {},
   "source": [
    "## Examples\n",
    "\n",
    "Let's look at some examples of how to use the wrapper script:"
   ]
  },
  {
   "cell_type": "markdown",
   "id": "36dbcf31",
   "metadata": {},
   "source": [
    "### Notebook Management\n",
    "\n",
    "```bash\n",
    "# List all notebooks\n",
    "./open_notebook_wrapper.sh list-notebooks\n",
    "\n",
    "# Create a new notebook\n",
    "./open_notebook_wrapper.sh create-notebook \"Research Project\" \"My research notes and sources\"\n",
    "\n",
    "# Get details about a specific notebook\n",
    "./open_notebook_wrapper.sh get-notebook notebook:abc123\n",
    "\n",
    "# Archive a notebook\n",
    "./open_notebook_wrapper.sh archive-notebook notebook:abc123\n",
    "```"
   ]
  },
  {
   "cell_type": "markdown",
   "id": "35a7cc2b",
   "metadata": {},
   "source": [
    "### Source Management\n",
    "\n",
    "```bash\n",
    "# List sources in a notebook\n",
    "./open_notebook_wrapper.sh list-sources notebook:abc123\n",
    "\n",
    "# Add a text source to a notebook\n",
    "./open_notebook_wrapper.sh add-text-source notebook:abc123 \"Important Article\" \"This is the content of the article...\"\n",
    "\n",
    "# Add a URL source and generate embeddings\n",
    "./open_notebook_wrapper.sh add-url-source notebook:abc123 https://example.com/article --embed\n",
    "\n",
    "# Get source details with insights\n",
    "./open_notebook_wrapper.sh get-source source:abc123 --show-insights\n",
    "```"
   ]
  },
  {
   "cell_type": "markdown",
   "id": "fc30dcc1",
   "metadata": {},
   "source": [
    "### Note Management\n",
    "\n",
    "```bash\n",
    "# List notes in a notebook\n",
    "./open_notebook_wrapper.sh list-notes notebook:abc123\n",
    "\n",
    "# Create a new note\n",
    "./open_notebook_wrapper.sh create-note notebook:abc123 \"Meeting Notes\" \"Notes from today's meeting...\" --type human\n",
    "\n",
    "# Convert an insight to a note\n",
    "./open_notebook_wrapper.sh insight-to-note source_insight:abc123 notebook:def456\n",
    "```"
   ]
  },
  {
   "cell_type": "markdown",
   "id": "2ca18a2b",
   "metadata": {},
   "source": [
    "### Transformations\n",
    "\n",
    "```bash\n",
    "# List all transformations\n",
    "./open_notebook_wrapper.sh list-transformations\n",
    "\n",
    "# Create a new transformation\n",
    "./open_notebook_wrapper.sh create-transformation \"Key Points\" \"Key Points\" \"Extracts key points from text\" \"Extract the 5 most important points from this text.\"\n",
    "\n",
    "# Apply a transformation to a source\n",
    "./open_notebook_wrapper.sh apply-transformation source:abc123 transformation:def456\n",
    "```"
   ]
  },
  {
   "cell_type": "markdown",
   "id": "f886d944",
   "metadata": {},
   "source": [
    "### Search\n",
    "\n",
    "```bash\n",
    "# Text search\n",
    "./open_notebook_wrapper.sh text-search \"quantum computing\"\n",
    "\n",
    "# Vector (semantic) search\n",
    "./open_notebook_wrapper.sh vector-search \"how do quantum computers work\" --results 3\n",
    "```"
   ]
  },
  {
   "cell_type": "markdown",
   "id": "20c075a0",
   "metadata": {},
   "source": [
    "### Podcast Generation\n",
    "\n",
    "```bash\n",
    "# List podcast templates\n",
    "./open_notebook_wrapper.sh list-podcast-templates\n",
    "\n",
    "# Generate a podcast from a notebook\n",
    "./open_notebook_wrapper.sh generate-podcast podcast_config:abc123 notebook:def456 \"Quantum Computing Explained\"\n",
    "```"
   ]
  },
  {
   "cell_type": "markdown",
   "id": "770e2190",
   "metadata": {},
   "source": [
    "## Special Commands\n",
    "\n",
    "The wrapper script includes a special command not available in the original CLI:"
   ]
  },
  {
   "cell_type": "markdown",
   "id": "69c6b8b7",
   "metadata": {},
   "source": [
    "### Shell Access\n",
    "\n",
    "To get a shell inside the container (useful for debugging or more complex operations):\n",
    "\n",
    "```bash\n",
    "./open_notebook_wrapper.sh shell\n",
    "```\n",
    "\n",
    "This will open a bash shell in the container, allowing you to run commands directly."
   ]
  },
  {
   "cell_type": "markdown",
   "id": "dab8ea41",
   "metadata": {},
   "source": [
    "## JSON Output\n",
    "\n",
    "For automated processing or integration with other tools, you can request JSON output by adding the `--json` flag:\n",
    "\n",
    "```bash\n",
    "./open_notebook_wrapper.sh list-notebooks --json\n",
    "./open_notebook_wrapper.sh get-notebook notebook:abc123 --json\n",
    "```\n",
    "\n",
    "This outputs data in structured JSON format, which can be parsed by other tools or scripts."
   ]
  },
  {
   "cell_type": "markdown",
   "id": "f69a51a0",
   "metadata": {},
   "source": [
    "## Error Handling\n",
    "\n",
    "The wrapper script includes basic error handling:\n",
    "\n",
    "1. It checks if the container is running before attempting to execute commands\n",
    "2. It forwards any error messages from the CLI inside the container\n",
    "3. It exits with an error status if the container is not available\n",
    "\n",
    "Example of a common error:\n",
    "\n",
    "```\n",
    "Error: Container 'assistant-notebook-1' is not running\n",
    "Please make sure the Open Notebook Docker container is started\n",
    "```"
   ]
  },
  {
   "cell_type": "markdown",
   "id": "ef6c84d7",
   "metadata": {},
   "source": [
    "## Integration with Other Scripts\n",
    "\n",
    "The wrapper script can be easily integrated with other shell scripts or tools on your host system. Here's an example of a simple automation script that creates a notebook and adds several URL sources to it:"
   ]
  },
  {
   "cell_type": "code",
   "execution_count": null,
   "id": "c76068be",
   "metadata": {
    "vscode": {
     "languageId": "bash"
    }
   },
   "outputs": [],
   "source": [
    "#!/bin/bash\n",
    "# Example: Creating a research notebook with multiple sources\n",
    "\n",
    "# Create a new notebook and capture its ID from the JSON output\n",
    "NOTEBOOK_ID=$(./open_notebook_wrapper.sh create-notebook \"AI Research\" \"Collection of AI research papers\" --json | jq -r '.id')\n",
    "echo \"Created notebook: $NOTEBOOK_ID\"\n",
    "\n",
    "# List of URLs to add as sources\n",
    "URLS=(\n",
    "  \"https://arxiv.org/abs/1706.03762\"\n",
    "  \"https://arxiv.org/abs/1810.04805\"\n",
    "  \"https://arxiv.org/abs/2005.14165\"\n",
    ")\n",
    "\n",
    "# Add each URL as a source to the notebook\n",
    "for URL in \"${URLS[@]}\"; do\n",
    "  echo \"Adding source: $URL\"\n",
    "  ./open_notebook_wrapper.sh add-url-source \"$NOTEBOOK_ID\" \"$URL\" --embed\n",
    "done\n",
    "\n",
    "# List the sources in the notebook\n",
    "echo \"Sources in the notebook:\"\n",
    "./open_notebook_wrapper.sh list-sources \"$NOTEBOOK_ID\""
   ]
  },
  {
   "cell_type": "markdown",
   "id": "e59d33a5",
   "metadata": {},
   "source": [
    "## Customizing the Wrapper\n",
    "\n",
    "You can customize the wrapper script to fit your specific environment by modifying the following variables at the top of the script:\n",
    "\n",
    "- `CONTAINER_NAME`: If your Open Notebook container has a different name\n",
    "- `CLI_PATH`: If the CLI script is located in a different directory in the container\n",
    "\n",
    "For example, if your container is named \"open-notebook\" and the CLI is in a different path:\n",
    "\n",
    "```bash\n",
    "CONTAINER_NAME=\"open-notebook\"\n",
    "CLI_PATH=\"/app/open_notebook_cli.py\"\n",
    "```"
   ]
  },
  {
   "cell_type": "markdown",
   "id": "3ede9dc9",
   "metadata": {},
   "source": [
    "## Conclusion\n",
    "\n",
    "The Open Notebook wrapper script provides a convenient way to interact with Open Notebook from your host system without having to modify the container. It supports all the functionality of the Open Notebook CLI while handling the container interaction details for you.\n",
    "\n",
    "By using this wrapper, you can automate Open Notebook operations, integrate with other tools, and build more complex workflows around your Open Notebook instance."
   ]
  }
 ],
 "metadata": {
  "language_info": {
   "name": "python"
  }
 },
 "nbformat": 4,
 "nbformat_minor": 5
}
