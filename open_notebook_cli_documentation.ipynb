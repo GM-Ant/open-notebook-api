{
 "cells": [
  {
   "cell_type": "markdown",
   "id": "666786c3",
   "metadata": {},
   "source": [
    "# Open Notebook CLI Documentation\n",
    "\n",
    "This notebook provides comprehensive documentation for the Open Notebook CLI tool, explaining how to interact with notebooks, sources, notes, transformations, podcasts, and other features from the command line."
   ]
  },
  {
   "cell_type": "markdown",
   "id": "7cc11780",
   "metadata": {},
   "source": [
    "## Introduction\n",
    "\n",
    "The Open Notebook CLI is a command-line interface that allows you to interact with all aspects of the Open Notebook application. It's particularly useful for:\n",
    "\n",
    "- Automating workflows\n",
    "- Bulk operations\n",
    "- Integration with other tools and scripts\n",
    "- Remote management of your Open Notebook instance\n",
    "\n",
    "This tool must be run from within the Docker container where Open Notebook is installed."
   ]
  },
  {
   "cell_type": "markdown",
   "id": "4b82150d",
   "metadata": {},
   "source": [
    "## Getting Started\n",
    "\n",
    "### Installation\n",
    "\n",
    "The CLI script is located at `/app/open_notebook_cli.py` in the Docker container. You can run commands directly by connecting to the container and invoking the script.\n",
    "\n",
    "### Basic Usage\n",
    "\n",
    "Connect to the container and run a command:\n",
    "\n",
    "```bash\n",
    "# Connect to the Docker container\n",
    "docker exec -it assistant-notebook-1 bash\n",
    "\n",
    "# Run a command inside the container\n",
    "python /app/open_notebook_cli.py list-notebooks\n",
    "```\n",
    "\n",
    "Alternatively, run commands directly without entering the container:\n",
    "\n",
    "```bash\n",
    "docker exec -it assistant-notebook-1 python /app/open_notebook_cli.py list-notebooks\n",
    "```\n",
    "\n",
    "### JSON Output\n",
    "\n",
    "All commands support JSON output with the `--json` flag, making integration with other tools easy:\n",
    "\n",
    "```bash\n",
    "docker exec -it assistant-notebook-1 python /app/open_notebook_cli.py list-notebooks --json\n",
    "```"
   ]
  },
  {
   "cell_type": "markdown",
   "id": "b241cb3c",
   "metadata": {},
   "source": [
    "## Notebook Commands\n",
    "\n",
    "Commands for managing notebooks (collections of sources and notes)."
   ]
  },
  {
   "cell_type": "code",
   "execution_count": null,
   "id": "d3160e72",
   "metadata": {
    "vscode": {
     "languageId": "bash"
    }
   },
   "outputs": [],
   "source": [
    "# List all notebooks\n",
    "python open_notebook_cli.py list-notebooks\n",
    "\n",
    "# List all notebooks including archived ones\n",
    "python open_notebook_cli.py list-notebooks --include-archived\n",
    "\n",
    "# List notebooks ordered by creation date\n",
    "python open_notebook_cli.py list-notebooks --order-by \"created desc\"\n",
    "\n",
    "# Get details of a specific notebook\n",
    "python open_notebook_cli.py get-notebook notebook:abc123\n",
    "\n",
    "# Create a new notebook\n",
    "python open_notebook_cli.py create-notebook \"Research Project\" \"Notes about my research on quantum computing\"\n",
    "\n",
    "# Archive a notebook\n",
    "python open_notebook_cli.py archive-notebook notebook:abc123\n",
    "\n",
    "# Unarchive a notebook\n",
    "python open_notebook_cli.py unarchive-notebook notebook:abc123"
   ]
  },
  {
   "cell_type": "markdown",
   "id": "8f002602",
   "metadata": {},
   "source": [
    "## Source Commands\n",
    "\n",
    "Commands for managing sources (documents, URLs, text content) in your notebooks."
   ]
  },
  {
   "cell_type": "code",
   "execution_count": null,
   "id": "800d5c2f",
   "metadata": {
    "vscode": {
     "languageId": "bash"
    }
   },
   "outputs": [],
   "source": [
    "# List all sources in a notebook\n",
    "python open_notebook_cli.py list-sources notebook:abc123\n",
    "\n",
    "# Get details of a specific source\n",
    "python open_notebook_cli.py get-source source:abc123\n",
    "\n",
    "# Get source details including the full text\n",
    "python open_notebook_cli.py get-source source:abc123 --full-text\n",
    "\n",
    "# Get source details including insights\n",
    "python open_notebook_cli.py get-source source:abc123 --show-insights\n",
    "\n",
    "# Add a text source to a notebook\n",
    "python open_notebook_cli.py add-text-source notebook:abc123 \"Source Title\" \"This is the content of my source\"\n",
    "\n",
    "# Add a text source with embedding and transformations\n",
    "python open_notebook_cli.py add-text-source notebook:abc123 \"Source Title\" \"This is the content\" --embed --apply-transformations transformation:abc123 transformation:def456\n",
    "\n",
    "# Add a URL source to a notebook\n",
    "python open_notebook_cli.py add-url-source notebook:abc123 https://example.com\n",
    "\n",
    "# Generate embeddings for a source (for vector search)\n",
    "python open_notebook_cli.py embed-source source:abc123"
   ]
  },
  {
   "cell_type": "markdown",
   "id": "760c670c",
   "metadata": {},
   "source": [
    "## Note Commands\n",
    "\n",
    "Commands for managing notes in your notebooks."
   ]
  },
  {
   "cell_type": "code",
   "execution_count": null,
   "id": "43362a40",
   "metadata": {
    "vscode": {
     "languageId": "bash"
    }
   },
   "outputs": [],
   "source": [
    "# List all notes in a notebook\n",
    "python open_notebook_cli.py list-notes notebook:abc123\n",
    "\n",
    "# Get details of a specific note\n",
    "python open_notebook_cli.py get-note note:abc123\n",
    "\n",
    "# Create a new note and add it to a notebook\n",
    "python open_notebook_cli.py create-note notebook:abc123 \"Note Title\" \"This is the content of my note\"\n",
    "\n",
    "# Create an AI-generated note\n",
    "python open_notebook_cli.py create-note notebook:abc123 \"AI Note\" \"This was generated by AI\" --type ai\n",
    "\n",
    "# Convert a source insight to a note\n",
    "python open_notebook_cli.py insight-to-note source_insight:abc123 notebook:def456"
   ]
  },
  {
   "cell_type": "markdown",
   "id": "f14ed45c",
   "metadata": {},
   "source": [
    "## Transformation Commands\n",
    "\n",
    "Commands for managing and applying transformations (AI-powered insights from sources)."
   ]
  },
  {
   "cell_type": "code",
   "execution_count": null,
   "id": "28d353f8",
   "metadata": {
    "vscode": {
     "languageId": "bash"
    }
   },
   "outputs": [],
   "source": [
    "# List all transformations\n",
    "python open_notebook_cli.py list-transformations\n",
    "\n",
    "# Get details of a specific transformation\n",
    "python open_notebook_cli.py get-transformation transformation:abc123\n",
    "\n",
    "# Create a new transformation\n",
    "python open_notebook_cli.py create-transformation \"Key Points\" \"Key Points\" \"Extracts key points from text\" \"Extract the 5 most important points from this text and format them as a bulleted list\"\n",
    "\n",
    "# Create a transformation that's applied by default to new sources\n",
    "python open_notebook_cli.py create-transformation \"Summary\" \"Summary\" \"Summarizes text\" \"Provide a concise summary of the text in 3-5 sentences.\" --apply-default\n",
    "\n",
    "# Apply a transformation to a source\n",
    "python open_notebook_cli.py apply-transformation source:abc123 transformation:def456"
   ]
  },
  {
   "cell_type": "markdown",
   "id": "a6b01c30",
   "metadata": {},
   "source": [
    "## Chat Session Commands\n",
    "\n",
    "Commands for managing chat sessions in notebooks."
   ]
  },
  {
   "cell_type": "code",
   "execution_count": null,
   "id": "301e18f1",
   "metadata": {
    "vscode": {
     "languageId": "bash"
    }
   },
   "outputs": [],
   "source": [
    "# List all chat sessions for a notebook\n",
    "python open_notebook_cli.py list-chat-sessions notebook:abc123\n",
    "\n",
    "# Create a new chat session for a notebook\n",
    "python open_notebook_cli.py create-chat-session notebook:abc123 \"Research Discussion\""
   ]
  },
  {
   "cell_type": "markdown",
   "id": "ea5303ec",
   "metadata": {},
   "source": [
    "## Search Commands\n",
    "\n",
    "Commands for searching across your notebooks, sources, and notes."
   ]
  },
  {
   "cell_type": "code",
   "execution_count": null,
   "id": "49e0897b",
   "metadata": {
    "vscode": {
     "languageId": "bash"
    }
   },
   "outputs": [],
   "source": [
    "# Perform a text search across sources and notes\n",
    "python open_notebook_cli.py text-search \"quantum computing\"\n",
    "\n",
    "# Limit number of results\n",
    "python open_notebook_cli.py text-search \"quantum computing\" --results 5\n",
    "\n",
    "# Search only in sources or notes\n",
    "python open_notebook_cli.py text-search \"quantum computing\" --source --no-note\n",
    "\n",
    "# Perform a vector (semantic) search\n",
    "python open_notebook_cli.py vector-search \"how do quantum computers work\"\n",
    "\n",
    "# Adjust minimum similarity score for vector search\n",
    "python open_notebook_cli.py vector-search \"how do quantum computers work\" --min-score 0.3"
   ]
  },
  {
   "cell_type": "markdown",
   "id": "050b3418",
   "metadata": {},
   "source": [
    "## Podcast Commands\n",
    "\n",
    "Commands for managing podcast templates and generating podcasts from your content."
   ]
  },
  {
   "cell_type": "code",
   "execution_count": null,
   "id": "9197350b",
   "metadata": {
    "vscode": {
     "languageId": "bash"
    }
   },
   "outputs": [],
   "source": [
    "# List all podcast templates\n",
    "python open_notebook_cli.py list-podcast-templates\n",
    "\n",
    "# Get details of a specific podcast template\n",
    "python open_notebook_cli.py get-podcast-template podcast_config:abc123\n",
    "\n",
    "# List all podcast episodes\n",
    "python open_notebook_cli.py list-podcast-episodes\n",
    "\n",
    "# Generate a podcast from a notebook\n",
    "python open_notebook_cli.py generate-podcast podcast_config:abc123 notebook:def456 \"Quantum Computing Insights\"\n",
    "\n",
    "# Generate a longer podcast with additional instructions\n",
    "python open_notebook_cli.py generate-podcast podcast_config:abc123 notebook:def456 \"Deep Dive into Quantum Computing\" --longform --instructions \"Focus on practical applications and recent breakthroughs\""
   ]
  },
  {
   "cell_type": "markdown",
   "id": "9039b441",
   "metadata": {},
   "source": [
    "## Example Workflows\n",
    "\n",
    "This section demonstrates how to combine multiple commands for common tasks."
   ]
  },
  {
   "cell_type": "markdown",
   "id": "b2218cc5",
   "metadata": {},
   "source": [
    "### Creating a Research Notebook with Sources\n",
    "\n",
    "This example shows how to create a new notebook, add sources, and apply transformations."
   ]
  },
  {
   "cell_type": "code",
   "execution_count": null,
   "id": "3c43dcb4",
   "metadata": {
    "vscode": {
     "languageId": "bash"
    }
   },
   "outputs": [],
   "source": [
    "# Create a new notebook\n",
    "NOTEBOOK_ID=$(python open_notebook_cli.py create-notebook \"Quantum Computing Research\" \"My research on quantum computing principles and applications\" --json | jq -r '.id')\n",
    "\n",
    "# Add URL sources\n",
    "python open_notebook_cli.py add-url-source \"$NOTEBOOK_ID\" \"https://en.wikipedia.org/wiki/Quantum_computing\" --embed\n",
    "python open_notebook_cli.py add-url-source \"$NOTEBOOK_ID\" \"https://quantum-computing.ibm.com/docs/guide/\" --embed\n",
    "\n",
    "# Get transformations to apply\n",
    "TRANSFORM_IDS=$(python open_notebook_cli.py list-transformations --json | jq -r '.[] | select(.name==\"Summary\" or .name==\"Key Points\") | .id')\n",
    "\n",
    "# Apply transformations to all sources in the notebook\n",
    "for SOURCE_ID in $(python open_notebook_cli.py list-sources \"$NOTEBOOK_ID\" --json | jq -r '.[].id'); do\n",
    "  for TRANSFORM_ID in $TRANSFORM_IDS; do\n",
    "    python open_notebook_cli.py apply-transformation \"$SOURCE_ID\" \"$TRANSFORM_ID\"\n",
    "  done\n",
    "done\n",
    "\n",
    "# Create a chat session for the notebook\n",
    "python open_notebook_cli.py create-chat-session \"$NOTEBOOK_ID\" \"Initial Research Discussion\""
   ]
  },
  {
   "cell_type": "markdown",
   "id": "8fe23137",
   "metadata": {},
   "source": [
    "### Generating a Podcast from Research\n",
    "\n",
    "This example shows how to search for relevant content, create a focused notebook, and generate a podcast."
   ]
  },
  {
   "cell_type": "code",
   "execution_count": null,
   "id": "e487a0f1",
   "metadata": {
    "vscode": {
     "languageId": "bash"
    }
   },
   "outputs": [],
   "source": [
    "# Create a new focused notebook\n",
    "PODCAST_NOTEBOOK_ID=$(python open_notebook_cli.py create-notebook \"Quantum Computing Podcast\" \"Content for my quantum computing podcast episode\" --json | jq -r '.id')\n",
    "\n",
    "# Search for relevant content across all notebooks\n",
    "SEARCH_RESULTS=$(python open_notebook_cli.py vector-search \"practical applications of quantum computing\" --results 10 --json)\n",
    "\n",
    "# Extract source IDs from search results\n",
    "SOURCE_IDS=$(echo \"$SEARCH_RESULTS\" | jq -r '.[] | select(.type==\"source\") | .id')\n",
    "\n",
    "# Extract note IDs from search results\n",
    "NOTE_IDS=$(echo \"$SEARCH_RESULTS\" | jq -r '.[] | select(.type==\"note\") | .id')\n",
    "\n",
    "# Get podcast template ID\n",
    "TEMPLATE_ID=$(python open_notebook_cli.py list-podcast-templates --json | jq -r '.[0].id')\n",
    "\n",
    "# Generate the podcast\n",
    "python open_notebook_cli.py generate-podcast \"$TEMPLATE_ID\" \"$PODCAST_NOTEBOOK_ID\" \"Quantum Computing: Applications and Future\" --longform --instructions \"Focus on practical applications and future developments in quantum computing. Make it accessible to a general audience.\""
   ]
  },
  {
   "cell_type": "markdown",
   "id": "5f14d5a4",
   "metadata": {},
   "source": [
    "## Advanced Usage\n",
    "\n",
    "### Scripting and Automation\n",
    "\n",
    "The CLI tool is designed to be easily integrated into scripts and automation workflows. You can:\n",
    "\n",
    "1. Use the `--json` flag to get structured output\n",
    "2. Pipe commands together\n",
    "3. Use in shell scripts or cron jobs\n",
    "4. Integrate with other tools via JSON output\n",
    "\n",
    "### Error Handling\n",
    "\n",
    "The tool provides clear error messages when operations fail. Common errors include:\n",
    "\n",
    "- Item not found (invalid ID)\n",
    "- Invalid input (missing required fields)\n",
    "- Permission issues\n",
    "\n",
    "Always check for error messages in script automation."
   ]
  },
  {
   "cell_type": "markdown",
   "id": "ae946550",
   "metadata": {},
   "source": [
    "## Command Reference Summary\n",
    "\n",
    "Here's a quick reference of all available commands:\n",
    "\n",
    "### Notebook Commands\n",
    "- `list-notebooks`: List all notebooks\n",
    "- `get-notebook`: Get a specific notebook\n",
    "- `create-notebook`: Create a new notebook\n",
    "- `archive-notebook`: Archive a notebook\n",
    "- `unarchive-notebook`: Unarchive a notebook\n",
    "\n",
    "### Source Commands\n",
    "- `list-sources`: List sources in a notebook\n",
    "- `get-source`: Get details of a source\n",
    "- `add-text-source`: Add a text source\n",
    "  - Use `--transform` to apply standard transformations and enable embedding\n",
    "- `add-url-source`: Add a URL source\n",
    "  - Use `--transform` to apply standard transformations and enable embedding\n",
    "- `embed-source`: Generate embeddings for a source\n",
    "\n",
    "### Note Commands\n",
    "- `list-notes`: List notes in a notebook\n",
    "- `get-note`: Get details of a note\n",
    "- `create-note`: Create a new note\n",
    "- `insight-to-note`: Convert source insight to note\n",
    "\n",
    "### Transformation Commands\n",
    "- `list-transformations`: List all transformations\n",
    "- `get-transformation`: Get details of a transformation\n",
    "- `create-transformation`: Create a new transformation\n",
    "- `apply-transformation`: Apply transformation to source\n",
    "  - Use `--transform` to apply all standard transformations\n",
    "\n",
    "### Chat Commands\n",
    "- `list-chat-sessions`: List chat sessions for a notebook\n",
    "- `create-chat-session`: Create a new chat session\n",
    "\n",
    "### Search Commands\n",
    "- `text-search`: Perform text search\n",
    "- `vector-search`: Perform semantic vector search\n",
    "\n",
    "### Podcast Commands\n",
    "- `list-podcast-templates`: List podcast templates\n",
    "- `get-podcast-template`: Get details of a podcast template\n",
    "- `list-podcast-episodes`: List podcast episodes\n",
    "- `generate-podcast`: Generate a podcast from a notebook"
   ]
  },
  {
   "cell_type": "markdown",
   "id": "af490efc",
   "metadata": {},
   "source": [
    "## Batch Transformations with the --transform Parameter\n",
    "\n",
    "The CLI provides a convenient way to apply multiple standard transformations at once using the `--transform` parameter. This parameter is a shortcut that automatically applies a carefully selected set of AI transformations to your content and enables embedding for vector search.\n",
    "\n",
    "Using the `--transform` parameter provides several benefits:\n",
    "\n",
    "1. **Efficiency**: Apply all standard transformations with a single command\n",
    "2. **Consistency**: Ensure all content is processed the same way\n",
    "3. **Automation**: The `--transform` parameter automatically enables embedding\n",
    "4. **Comprehensiveness**: Get multiple AI-powered insights for each source\n",
    "\n",
    "This approach is particularly useful when adding new sources that you want to process with a comprehensive set of analyses."
   ]
  },
  {
   "cell_type": "code",
   "execution_count": null,
   "id": "48642b07",
   "metadata": {
    "vscode": {
     "languageId": "bash"
    }
   },
   "outputs": [],
   "source": [
    "# Apply multiple specific transformations with the --transform parameter\n",
    "python open_notebook_cli.py add-text-source notebook:abc123 \"Research Paper\" \"This is the content of my research paper\" --transform\n",
    "\n",
    "# Apply the same transformations to a URL source\n",
    "python open_notebook_cli.py add-url-source notebook:abc123 https://example.com/research-paper --transform\n",
    "\n",
    "# Apply the same transformations to an existing source\n",
    "python open_notebook_cli.py apply-transformation source:abc123 --transform"
   ]
  },
  {
   "cell_type": "markdown",
   "id": "5a4b8d90",
   "metadata": {},
   "source": [
    "### Transformation ID Reference\n",
    "\n",
    "The CLI has a built-in set of standard transformations that are applied when using the `--transform` parameter. These transformations are:\n",
    "\n",
    "- `transformation:six06lwh4za956v8b53y`: Summary transformation\n",
    "- `transformation:75oaeqdl73m3vk31sc66`: Key Points extraction\n",
    "- `transformation:q2g9i1ijrr37a9ubopku`: Questions and Answers generation\n",
    "- `transformation:5tvf3lsffw5onsh4eecr`: Critical Analysis\n",
    "- `transformation:peilrk93qprsggk4pck4`: Potential Applications\n",
    "- `transformation:9d74z8nhwml1c9zi04ng`: Further Research Suggestions\n",
    "\n",
    "When using the `--transform` parameter, the system automatically:\n",
    "\n",
    "1. Applies all standard transformations to the source\n",
    "2. Enables embedding for vector search\n",
    "3. Processes all transformations in parallel\n",
    "\n",
    "This is much more efficient than applying transformations individually."
   ]
  },
  {
   "cell_type": "markdown",
   "id": "38fd13a1",
   "metadata": {},
   "source": [
    "### Scripting with Batch Transformations\n",
    "\n",
    "This example shows how to use batch transformations in a script to efficiently process a new source, check its transformation results, and then use that information in downstream processing:"
   ]
  },
  {
   "cell_type": "code",
   "execution_count": null,
   "id": "1742a2e0",
   "metadata": {
    "vscode": {
     "languageId": "bash"
    }
   },
   "outputs": [],
   "source": [
    "# Create a new notebook\n",
    "NOTEBOOK_ID=$(python open_notebook_cli.py create-notebook \"Advanced Research Topic\" \"Comprehensive research with multiple AI insights\" --json | jq -r '.id')\n",
    "\n",
    "# Add a source with the standard transformations and embeddings\n",
    "SOURCE_ID=$(python open_notebook_cli.py add-url-source \"$NOTEBOOK_ID\" \"https://example.com/advanced-research\" --transform --json | jq -r '.id')\n",
    "\n",
    "# Check the status of the transformations\n",
    "python open_notebook_cli.py get-source \"$SOURCE_ID\" --show-insights\n",
    "\n",
    "# Check a specific transformation result (Summary)\n",
    "python open_notebook_cli.py get-source \"$SOURCE_ID\" --show-insights | grep -A 5 \"Summary\""
   ]
  }
 ],
 "metadata": {
  "language_info": {
   "name": "python"
  }
 },
 "nbformat": 4,
 "nbformat_minor": 5
}
