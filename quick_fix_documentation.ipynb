{
 "cells": [
  {
   "cell_type": "markdown",
   "id": "350efea3",
   "metadata": {},
   "source": [
    "# Quick Fix for Open Notebook CLI Dependency Issues\n",
    "\n",
    "This notebook provides a quick solution for the dependency issues with the Open Notebook CLI."
   ]
  },
  {
   "cell_type": "markdown",
   "id": "1ac2507e",
   "metadata": {},
   "source": [
    "## The Problem\n",
    "\n",
    "When trying to run commands using the `on_run.sh` script, you encounter this error:\n",
    "\n",
    "```\n",
    "gregory@macbook:~/localcode/open-notebook$ ./on_run.sh list-notebooks\n",
    "Traceback (most recent call last):\n",
    "  File \"/app/open_notebook_cli.py\", line 22, in <module>\n",
    "    from open_notebook.domain.notebook import (\n",
    "  File \"/app/open_notebook/domain/notebook.py\", line 4, in <module>\n",
    "    from loguru import logger\n",
    "ModuleNotFoundError: No module named 'loguru'\n",
    "```\n",
    "\n",
    "This indicates that the required Python dependencies are not installed in the Docker container."
   ]
  },
  {
   "cell_type": "markdown",
   "id": "6e64d36d",
   "metadata": {},
   "source": [
    "## The Solution\n",
    "\n",
    "I've updated the `on_run.sh` script to automatically check for and install missing dependencies before running any command.\n",
    "\n",
    "The updated script does the following:\n",
    "\n",
    "1. Checks if the `loguru` module can be imported in the container\n",
    "2. If not, installs all the required dependencies using pip\n",
    "3. Then proceeds to run the requested command\n",
    "\n",
    "This makes the wrapper script much more reliable as it ensures dependencies are present before attempting to run any command."
   ]
  },
  {
   "cell_type": "code",
   "execution_count": null,
   "id": "c3d0b8f7",
   "metadata": {
    "vscode": {
     "languageId": "bash"
    }
   },
   "outputs": [],
   "source": [
    "#!/bin/bash\n",
    "# on_run.sh - Simple script to run Open Notebook CLI commands in the container\n",
    "# Enhanced version that ensures dependencies are installed\n",
    "\n",
    "CONTAINER_NAME=\"assistant-notebook-1\"\n",
    "CLI_PATH=\"/app/open_notebook_cli.py\"\n",
    "\n",
    "# Function to check if dependencies are installed\n",
    "check_dependencies() {\n",
    "  echo \"Checking if required dependencies are installed...\"\n",
    "  \n",
    "  # Test if loguru can be imported\n",
    "  if ! docker exec $CONTAINER_NAME python -c \"import loguru\" 2>/dev/null; then\n",
    "    echo \"Installing missing dependencies...\"\n",
    "    # Install dependencies using pip\n",
    "    docker exec $CONTAINER_NAME pip install loguru pydantic langchain langgraph typing_extensions humanize pyyaml\n",
    "    echo \"Dependencies installed.\"\n",
    "  else\n",
    "    echo \"Dependencies already installed.\"\n",
    "  fi\n",
    "}\n",
    "\n",
    "# Display help if no arguments provided\n",
    "if [ $# -eq 0 ]; then\n",
    "  echo \"Usage: ./on_run.sh <command> [options]\"\n",
    "  echo \"Example: ./on_run.sh list-notebooks\"\n",
    "  exit 1\n",
    "fi\n",
    "\n",
    "# Check and install dependencies before running command\n",
    "check_dependencies\n",
    "\n",
    "# Run the command in the container\n",
    "echo \"Running command: python $CLI_PATH $@\"\n",
    "docker exec -it \"$CONTAINER_NAME\" python \"$CLI_PATH\" \"$@\""
   ]
  },
  {
   "cell_type": "markdown",
   "id": "35f034af",
   "metadata": {},
   "source": [
    "## How to Use the Updated Script\n",
    "\n",
    "Make sure the script is executable:\n",
    "\n",
    "```bash\n",
    "chmod +x on_run.sh\n",
    "```\n",
    "\n",
    "Then use it as before:\n",
    "\n",
    "```bash\n",
    "./on_run.sh list-notebooks\n",
    "./on_run.sh create-notebook \"My Research\" \"Notes about my research\"\n",
    "```\n",
    "\n",
    "The first time you run a command, it will check if dependencies are installed and install them if needed. Subsequent commands will run directly if dependencies are already installed."
   ]
  },
  {
   "cell_type": "markdown",
   "id": "3cca8da8",
   "metadata": {},
   "source": [
    "## Why This Solution Works\n",
    "\n",
    "This solution is straightforward and reliable because:\n",
    "\n",
    "1. It checks for missing dependencies at runtime\n",
    "2. It installs dependencies only when needed\n",
    "3. It doesn't require modifying the container itself\n",
    "4. It doesn't interfere with the container's normal operation\n",
    "\n",
    "This approach is much simpler than attempting to diagnose complex Python environment issues within the container."
   ]
  },
  {
   "cell_type": "markdown",
   "id": "34df4ef4",
   "metadata": {},
   "source": [
    "## If Problems Persist\n",
    "\n",
    "If you still encounter issues after using the updated script, try:\n",
    "\n",
    "1. Connecting directly to the container to diagnose the issue:\n",
    "   ```bash\n",
    "   docker exec -it assistant-notebook-1 bash\n",
    "   ```\n",
    "\n",
    "2. Installing the dependencies manually:\n",
    "   ```bash\n",
    "   docker exec -it assistant-notebook-1 pip install --force-reinstall loguru pydantic langchain langgraph\n",
    "   ```\n",
    "\n",
    "3. Running the more comprehensive setup script if needed:\n",
    "   ```bash\n",
    "   python open_notebook_container_setup.py\n",
    "   ```\n",
    "\n",
    "The last option will perform a more thorough diagnosis and fix of the container environment."
   ]
  }
 ],
 "metadata": {
  "language_info": {
   "name": "python"
  }
 },
 "nbformat": 4,
 "nbformat_minor": 5
}
