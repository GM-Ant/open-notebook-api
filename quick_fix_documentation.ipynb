{
 "cells": [
  {
   "cell_type": "markdown",
   "id": "350efea3",
   "metadata": {},
   "source": [
    "# Quick Fix for Open Notebook CLI Dependency Issues\n",
    "\n",
    "This notebook provides a quick solution for the dependency issues with the Open Notebook CLI."
   ]
  },
  {
   "cell_type": "markdown",
   "id": "1ac2507e",
   "metadata": {},
   "source": [
    "## The Problem\n",
    "\n",
    "When trying to run commands using the `on_run.sh` script, you encounter this error:\n",
    "\n",
    "```\n",
    "gregory@macbook:~/localcode/open-notebook$ ./on_run.sh list-notebooks\n",
    "Traceback (most recent call last):\n",
    "  File \"/app/open_notebook_cli.py\", line 22, in <module>\n",
    "    from open_notebook.domain.notebook import (\n",
    "  File \"/app/open_notebook/domain/notebook.py\", line 4, in <module>\n",
    "    from loguru import logger\n",
    "ModuleNotFoundError: No module named 'loguru'\n",
    "```\n",
    "\n",
    "This indicates that the required Python dependencies are not installed in the Docker container."
   ]
  },
  {
   "cell_type": "markdown",
   "metadata": {},
   "source": [
    "## The Solution\n",
    "\n",
    "I've updated the `on_run.sh` script to automatically check for and install missing dependencies before running any command.\n",
    "\n",
    "The updated script does the following:\n",
    "\n",
    "1. Checks if the `loguru` module can be imported in the container\n",
    "2. If not, installs all the required dependencies using pip\n",
    "3. Then proceeds to run the requested command\n",
    "\n",
    "This makes the wrapper script much more reliable as it ensures dependencies are present before attempting to run any command."
   ]
  }
 ],
 "metadata": {
  "language_info": {
   "name": "python"
  }
 },
 "nbformat": 4,
 "nbformat_minor": 5
}
