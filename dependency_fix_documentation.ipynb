{
 "cells": [
  {
   "cell_type": "markdown",
   "id": "bec5edc6",
   "metadata": {},
   "source": [
    "# Fixing Missing Dependencies in Open Notebook CLI\n",
    "\n",
    "This notebook documents how to fix the \"ModuleNotFoundError: No module named 'loguru'\" error when running the Open Notebook CLI wrapper script."
   ]
  },
  {
   "cell_type": "markdown",
   "metadata": {},
   "source": [
    "## The Problem\n",
    "\n",
    "When running commands with the Open Notebook wrapper script, you're encountering this error:\n",
    "\n",
    "```\n",
    "gregory@macbook:~/localcode/open-notebook$ ./open_notebook_wrapper.sh list-notebooks\n",
    "Executing: python open_notebook_cli.py list-notebooks \n",
    "Traceback (most recent call last):\n",
    "  File \"/app/open_notebook_cli.py\", line 22, in <module>\n",
    "    from open_notebook.domain.notebook import (\n",
    "  File \"/app/open_notebook/domain/notebook.py\", line 4, in <module>\n",
    "    from loguru import logger\n",
    "ModuleNotFoundError: No module named 'loguru'\n",
    "```\n",
    "\n",
    "This means that the Docker container is missing some required Python dependencies that need to be installed before the CLI can be used."
   ]
  }
 ],
 "metadata": {
  "language_info": {
   "name": "python"
  }
 },
 "nbformat": 4,
 "nbformat_minor": 5
}
