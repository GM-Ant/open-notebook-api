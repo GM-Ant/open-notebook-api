{
 "cells": [
  {
   "cell_type": "markdown",
   "id": "566457f3",
   "metadata": {},
   "source": [
    "# Open Notebook Dependency Fix Documentation\n",
    "\n",
    "This notebook documents the steps to resolve dependency issues with the Open Notebook CLI in Docker."
   ]
  },
  {
   "cell_type": "markdown",
   "id": "d0ec7dbb",
   "metadata": {},
   "source": [
    "## Identified Issues\n",
    "\n",
    "Based on the error logs, we've identified several dependency issues:\n",
    "\n",
    "1. Missing packages: streamlit, podcastfy, pyyaml (import error)\n",
    "2. Database connection issue: missing `sblpy` package (for SurrealDB connectivity)\n",
    "\n",
    "The primary error is:\n",
    "```\n",
    "ModuleNotFoundError: No module named 'sblpy'\n",
    "```\n",
    "\n",
    "This is occurring when trying to run the Open Notebook CLI."
   ]
  },
  {
   "cell_type": "markdown",
   "id": "0572ea9d",
   "metadata": {},
   "source": [
    "## Solution Approach\n",
    "\n",
    "We'll create a comprehensive fix script that installs all required dependencies, including the newly identified `sblpy` package."
   ]
  },
  {
   "cell_type": "code",
   "execution_count": null,
   "id": "0a66837c",
   "metadata": {},
   "outputs": [],
   "source": [
    "# Complete Fix Script (complete_fix.py)\n",
    "#!/usr/bin/env python3\n",
    "\n",
    "import subprocess\n",
    "import sys\n",
    "import os\n",
    "from datetime import datetime\n",
    "\n",
    "def log(message, level=\"INFO\"):\n",
    "    timestamp = datetime.now().strftime(\"%Y-%m-%d %H:%M:%S\")\n",
    "    print(f\"[{timestamp}] [{level}] {message}\")\n",
    "\n",
    "def run_command(command, description=None, check=True):\n",
    "    if description:\n",
    "        log(description)\n",
    "    \n",
    "    try:\n",
    "        result = subprocess.run(\n",
    "            command,\n",
    "            check=check,\n",
    "            stdout=subprocess.PIPE,\n",
    "            stderr=subprocess.PIPE,\n",
    "            text=True\n",
    "        )\n",
    "        print(result.stdout)\n",
    "        if result.stderr and not result.stderr.isspace():\n",
    "            print(f\"STDERR: {result.stderr}\")\n",
    "        return result\n",
    "    except subprocess.CalledProcessError as e:\n",
    "        log(f\"Error executing command: {command}\", \"ERROR\")\n",
    "        log(f\"Return code: {e.returncode}\", \"ERROR\")\n",
    "        if e.stderr:\n",
    "            log(f\"STDERR: {e.stderr}\", \"ERROR\")\n",
    "        if not check:\n",
    "            return e\n",
    "        else:\n",
    "            return None\n",
    "\n",
    "def verify_import(package_name, container=\"assistant-notebook-1\"):\n",
    "    log(f\"Checking if {package_name} is properly installed...\")\n",
    "    result = run_command(\n",
    "        [\"docker\", \"exec\", container, \"python\", \"-c\", \n",
    "         f\"import {package_name}; print('{package_name} successfully imported!')\"],\n",
    "        check=False\n",
    "    )\n",
    "    \n",
    "    if result.returncode == 0:\n",
    "        return True\n",
    "    else:\n",
    "        log(f\"ERROR: Failed to import {package_name}!\", \"ERROR\")\n",
    "        return False\n",
    "\n",
    "def install_packages():\n",
    "    # Define all packages to install\n",
    "    packages = [\n",
    "        \"pydantic\",\n",
    "        \"langchain\",\n",
    "        \"langgraph\",\n",
    "        \"streamlit\",\n",
    "        \"podcastfy\",\n",
    "        \"typing_extensions\",\n",
    "        \"humanize\",\n",
    "        \"pyyaml\",\n",
    "        \"sblpy\"  # Add the missing SurrealDB library\n",
    "    ]\n",
    "    \n",
    "    for package in packages:\n",
    "        log(f\"Installing {package}...\")\n",
    "        run_command(\n",
    "            [\"docker\", \"exec\", \"assistant-notebook-1\", \"pip\", \"install\", package],\n",
    "            check=False\n",
    "        )\n",
    "    \n",
    "    # Verify all packages\n",
    "    all_installed = True\n",
    "    for package in packages:\n",
    "        if not verify_import(package):\n",
    "            all_installed = False\n",
    "    \n",
    "    if all_installed:\n",
    "        log(\"All dependencies successfully installed!\")\n",
    "    else:\n",
    "        log(\"WARNING: Some dependencies could not be imported.\", \"WARNING\")\n",
    "        log(\"The CLI may not work correctly.\", \"WARNING\")\n",
    "\n",
    "def copy_cli_script():\n",
    "    log(\"\\n====== Copying CLI Script to Container ======\")\n",
    "    run_command(\n",
    "        [\"docker\", \"cp\", \"open_notebook_cli.py\", \"assistant-notebook-1:/app/\"],\n",
    "        \"Copying CLI script to container...\"\n",
    "    )\n",
    "\n",
    "def run_test_command():\n",
    "    log(\"\\n====== Running Test Command ======\")\n",
    "    log(\"Running 'list-notebooks' command...\")\n",
    "    result = run_command(\n",
    "        [\"docker\", \"exec\", \"assistant-notebook-1\", \"python\", \"/app/open_notebook_cli.py\", \"list-notebooks\"],\n",
    "        check=False\n",
    "    )\n",
    "    \n",
    "    if result.returncode != 0:\n",
    "        log(\"WARNING: Test command failed. The CLI might not be working correctly.\", \"WARNING\")\n",
    "        return False\n",
    "    return True\n",
    "\n",
    "def main():\n",
    "    log(\"====== Starting Dependency Fix ======\")\n",
    "    \n",
    "    # Install all required packages\n",
    "    install_packages()\n",
    "    \n",
    "    # Copy CLI script to container\n",
    "    copy_cli_script()\n",
    "    \n",
    "    # Run test command\n",
    "    success = run_test_command()\n",
    "    \n",
    "    if success:\n",
    "        log(\"\\n===== Fix Complete =====\")\n",
    "        log(\"All dependencies are now installed and the CLI is working correctly.\")\n",
    "    else:\n",
    "        log(\"\\n===== Fix Incomplete =====\")\n",
    "        log(\"Some issues remain. Please check the error messages above.\")\n",
    "\n",
    "if __name__ == \"__main__\":\n",
    "    main()"
   ]
  },
  {
   "cell_type": "markdown",
   "id": "a9971054",
   "metadata": {},
   "source": [
    "## Quick Fix Shell Script\n",
    "\n",
    "Alternatively, you can use this quick shell script to fix the dependencies:"
   ]
  },
  {
   "cell_type": "code",
   "execution_count": null,
   "id": "4910c1c5",
   "metadata": {
    "vscode": {
     "languageId": "bash"
    }
   },
   "outputs": [],
   "source": [
    "#!/bin/bash\n",
    "\n",
    "# Quick fix script for Open Notebook dependencies\n",
    "echo \"Installing missing dependencies...\"\n",
    "\n",
    "# Install the missing sblpy package\n",
    "docker exec assistant-notebook-1 pip install sblpy\n",
    "\n",
    "# Verify the sblpy package is installed\n",
    "docker exec assistant-notebook-1 python -c \"import sblpy; print('sblpy successfully imported!')\"\n",
    "\n",
    "# Also ensure other potentially missing packages are installed\n",
    "docker exec assistant-notebook-1 pip install streamlit podcastfy pyyaml\n",
    "\n",
    "echo \"Testing CLI...\"\n",
    "docker exec assistant-notebook-1 python /app/open_notebook_cli.py list-notebooks\n",
    "\n",
    "echo \"Fix completed.\""
   ]
  },
  {
   "cell_type": "markdown",
   "id": "af47af83",
   "metadata": {},
   "source": [
    "## Testing the Fix\n",
    "\n",
    "After applying either fix method, test the CLI with:"
   ]
  },
  {
   "cell_type": "code",
   "execution_count": null,
   "id": "31e5fa37",
   "metadata": {
    "vscode": {
     "languageId": "bash"
    }
   },
   "outputs": [],
   "source": [
    "./on_run.sh list-notebooks"
   ]
  },
  {
   "cell_type": "markdown",
   "id": "e0ecf71b",
   "metadata": {},
   "source": [
    "## Understanding the Error\n",
    "\n",
    "The primary issue was a missing dependency `sblpy` which is required for SurrealDB connectivity. This package is used by the Open Notebook application to connect to its database.\n",
    "\n",
    "The dependency chain is:\n",
    "```\n",
    "open_notebook_cli.py -> open_notebook.domain.notebook -> open_notebook.database.repository -> sblpy.connection\n",
    "```\n",
    "\n",
    "When this dependency is missing, the CLI cannot initialize properly."
   ]
  },
  {
   "cell_type": "markdown",
   "id": "4a7016ee",
   "metadata": {},
   "source": [
    "## Alternative Solution: Creating a Standalone Script\n",
    "\n",
    "If you prefer not to modify the container, you can create a standalone script that does not depend on the database connection."
   ]
  },
  {
   "cell_type": "markdown",
   "id": "a951235b",
   "metadata": {},
   "source": [
    "## Advantages of the Enhanced Wrapper\n",
    "\n",
    "Compared to the regular wrapper, the enhanced version:\n",
    "\n",
    "1. Automatically handles missing dependencies\n",
    "2. Provides clearer error messages\n",
    "3. Adds a convenience command for installing all common dependencies\n",
    "4. Falls back gracefully when installation methods fail\n",
    "\n",
    "This makes it more robust for environments where the container might not have all required dependencies pre-installed."
   ]
  }
 ],
 "metadata": {
  "language_info": {
   "name": "python"
  }
 },
 "nbformat": 4,
 "nbformat_minor": 5
}
